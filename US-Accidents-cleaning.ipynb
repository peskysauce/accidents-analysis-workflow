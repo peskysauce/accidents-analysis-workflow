{
 "cells": [
  {
   "cell_type": "code",
   "execution_count": 1,
   "metadata": {},
   "outputs": [],
   "source": [
    "import pandas as pd\n",
    "import numpy as np\n",
    "import matplotlib.pyplot as plt\n",
    "import seaborn as sns\n",
    "from datetime import datetime\n",
    "import pytz\n",
    "from timezonefinder import TimezoneFinder\n",
    "from astral.sun import sun\n",
    "from astral import LocationInfo\n",
    "import geocoder\n",
    "from IPython.display import display"
   ]
  },
  {
   "cell_type": "code",
   "execution_count": 2,
   "metadata": {},
   "outputs": [],
   "source": [
    "df = pd.read_csv('/Users/elliotyip/Desktop/Portfolio-project/Project-05/US-Accidents.csv')"
   ]
  },
  {
   "cell_type": "code",
   "execution_count": 5,
   "metadata": {},
   "outputs": [
    {
     "data": {
      "text/plain": [
       "(7728394, 46)"
      ]
     },
     "metadata": {},
     "output_type": "display_data"
    },
    {
     "data": {
      "text/plain": [
       "Index(['ID', 'Source', 'Severity', 'Start_Time', 'End_Time', 'Start_Lat',\n",
       "       'Start_Lng', 'End_Lat', 'End_Lng', 'Distance(mi)', 'Description',\n",
       "       'Street', 'City', 'County', 'State', 'Zipcode', 'Country', 'Timezone',\n",
       "       'Airport_Code', 'Weather_Timestamp', 'Temperature(F)', 'Wind_Chill(F)',\n",
       "       'Humidity(%)', 'Pressure(in)', 'Visibility(mi)', 'Wind_Direction',\n",
       "       'Wind_Speed(mph)', 'Precipitation(in)', 'Weather_Condition', 'Amenity',\n",
       "       'Bump', 'Crossing', 'Give_Way', 'Junction', 'No_Exit', 'Railway',\n",
       "       'Roundabout', 'Station', 'Stop', 'Traffic_Calming', 'Traffic_Signal',\n",
       "       'Turning_Loop', 'Sunrise_Sunset', 'Civil_Twilight', 'Nautical_Twilight',\n",
       "       'Astronomical_Twilight'],\n",
       "      dtype='object')"
      ]
     },
     "metadata": {},
     "output_type": "display_data"
    },
    {
     "data": {
      "text/plain": [
       "ID                        object\n",
       "Source                    object\n",
       "Severity                   int64\n",
       "Start_Time                object\n",
       "End_Time                  object\n",
       "Start_Lat                float64\n",
       "Start_Lng                float64\n",
       "End_Lat                  float64\n",
       "End_Lng                  float64\n",
       "Distance(mi)             float64\n",
       "Description               object\n",
       "Street                    object\n",
       "City                      object\n",
       "County                    object\n",
       "State                     object\n",
       "Zipcode                   object\n",
       "Country                   object\n",
       "Timezone                  object\n",
       "Airport_Code              object\n",
       "Weather_Timestamp         object\n",
       "Temperature(F)           float64\n",
       "Wind_Chill(F)            float64\n",
       "Humidity(%)              float64\n",
       "Pressure(in)             float64\n",
       "Visibility(mi)           float64\n",
       "Wind_Direction            object\n",
       "Wind_Speed(mph)          float64\n",
       "Precipitation(in)        float64\n",
       "Weather_Condition         object\n",
       "Amenity                     bool\n",
       "Bump                        bool\n",
       "Crossing                    bool\n",
       "Give_Way                    bool\n",
       "Junction                    bool\n",
       "No_Exit                     bool\n",
       "Railway                     bool\n",
       "Roundabout                  bool\n",
       "Station                     bool\n",
       "Stop                        bool\n",
       "Traffic_Calming             bool\n",
       "Traffic_Signal              bool\n",
       "Turning_Loop                bool\n",
       "Sunrise_Sunset            object\n",
       "Civil_Twilight            object\n",
       "Nautical_Twilight         object\n",
       "Astronomical_Twilight     object\n",
       "dtype: object"
      ]
     },
     "metadata": {},
     "output_type": "display_data"
    }
   ],
   "source": [
    "display(df.shape)\n",
    "display(df.columns)\n",
    "display(df.dtypes)"
   ]
  },
  {
   "cell_type": "code",
   "execution_count": 6,
   "metadata": {},
   "outputs": [
    {
     "data": {
      "text/plain": [
       "True"
      ]
     },
     "execution_count": 6,
     "metadata": {},
     "output_type": "execute_result"
    }
   ],
   "source": [
    "df['ID'].is_unique"
   ]
  },
  {
   "cell_type": "code",
   "execution_count": 7,
   "metadata": {},
   "outputs": [
    {
     "data": {
      "text/html": [
       "<div>\n",
       "<style scoped>\n",
       "    .dataframe tbody tr th:only-of-type {\n",
       "        vertical-align: middle;\n",
       "    }\n",
       "\n",
       "    .dataframe tbody tr th {\n",
       "        vertical-align: top;\n",
       "    }\n",
       "\n",
       "    .dataframe thead th {\n",
       "        text-align: right;\n",
       "    }\n",
       "</style>\n",
       "<table border=\"1\" class=\"dataframe\">\n",
       "  <thead>\n",
       "    <tr style=\"text-align: right;\">\n",
       "      <th></th>\n",
       "      <th>Temperature(F)</th>\n",
       "      <th>Wind_Chill(F)</th>\n",
       "      <th>Humidity(%)</th>\n",
       "      <th>Pressure(in)</th>\n",
       "      <th>Visibility(mi)</th>\n",
       "      <th>Wind_Speed(mph)</th>\n",
       "      <th>Precipitation(in)</th>\n",
       "    </tr>\n",
       "  </thead>\n",
       "  <tbody>\n",
       "    <tr>\n",
       "      <th>count</th>\n",
       "      <td>7564541.000</td>\n",
       "      <td>5729375.000</td>\n",
       "      <td>7554250.000</td>\n",
       "      <td>7587715.000</td>\n",
       "      <td>7551296.000</td>\n",
       "      <td>7157161.000</td>\n",
       "      <td>5524808.000</td>\n",
       "    </tr>\n",
       "    <tr>\n",
       "      <th>mean</th>\n",
       "      <td>61.663</td>\n",
       "      <td>58.251</td>\n",
       "      <td>64.831</td>\n",
       "      <td>29.539</td>\n",
       "      <td>9.090</td>\n",
       "      <td>7.685</td>\n",
       "      <td>0.008</td>\n",
       "    </tr>\n",
       "    <tr>\n",
       "      <th>std</th>\n",
       "      <td>19.014</td>\n",
       "      <td>22.390</td>\n",
       "      <td>22.821</td>\n",
       "      <td>1.006</td>\n",
       "      <td>2.688</td>\n",
       "      <td>5.425</td>\n",
       "      <td>0.110</td>\n",
       "    </tr>\n",
       "    <tr>\n",
       "      <th>min</th>\n",
       "      <td>-89.000</td>\n",
       "      <td>-89.000</td>\n",
       "      <td>1.000</td>\n",
       "      <td>0.000</td>\n",
       "      <td>0.000</td>\n",
       "      <td>0.000</td>\n",
       "      <td>0.000</td>\n",
       "    </tr>\n",
       "    <tr>\n",
       "      <th>25%</th>\n",
       "      <td>49.000</td>\n",
       "      <td>43.000</td>\n",
       "      <td>48.000</td>\n",
       "      <td>29.370</td>\n",
       "      <td>10.000</td>\n",
       "      <td>4.600</td>\n",
       "      <td>0.000</td>\n",
       "    </tr>\n",
       "    <tr>\n",
       "      <th>50%</th>\n",
       "      <td>64.000</td>\n",
       "      <td>62.000</td>\n",
       "      <td>67.000</td>\n",
       "      <td>29.860</td>\n",
       "      <td>10.000</td>\n",
       "      <td>7.000</td>\n",
       "      <td>0.000</td>\n",
       "    </tr>\n",
       "    <tr>\n",
       "      <th>75%</th>\n",
       "      <td>76.000</td>\n",
       "      <td>75.000</td>\n",
       "      <td>84.000</td>\n",
       "      <td>30.030</td>\n",
       "      <td>10.000</td>\n",
       "      <td>10.400</td>\n",
       "      <td>0.000</td>\n",
       "    </tr>\n",
       "    <tr>\n",
       "      <th>max</th>\n",
       "      <td>207.000</td>\n",
       "      <td>207.000</td>\n",
       "      <td>100.000</td>\n",
       "      <td>58.630</td>\n",
       "      <td>140.000</td>\n",
       "      <td>1087.000</td>\n",
       "      <td>36.470</td>\n",
       "    </tr>\n",
       "  </tbody>\n",
       "</table>\n",
       "</div>"
      ],
      "text/plain": [
       "       Temperature(F)  Wind_Chill(F)  Humidity(%)  Pressure(in)  \\\n",
       "count     7564541.000    5729375.000  7554250.000   7587715.000   \n",
       "mean           61.663         58.251       64.831        29.539   \n",
       "std            19.014         22.390       22.821         1.006   \n",
       "min           -89.000        -89.000        1.000         0.000   \n",
       "25%            49.000         43.000       48.000        29.370   \n",
       "50%            64.000         62.000       67.000        29.860   \n",
       "75%            76.000         75.000       84.000        30.030   \n",
       "max           207.000        207.000      100.000        58.630   \n",
       "\n",
       "       Visibility(mi)  Wind_Speed(mph)  Precipitation(in)  \n",
       "count     7551296.000      7157161.000        5524808.000  \n",
       "mean            9.090            7.685              0.008  \n",
       "std             2.688            5.425              0.110  \n",
       "min             0.000            0.000              0.000  \n",
       "25%            10.000            4.600              0.000  \n",
       "50%            10.000            7.000              0.000  \n",
       "75%            10.000           10.400              0.000  \n",
       "max           140.000         1087.000             36.470  "
      ]
     },
     "execution_count": 7,
     "metadata": {},
     "output_type": "execute_result"
    }
   ],
   "source": [
    "# Set the display format for floats\n",
    "\n",
    "pd.set_option('display.float_format', lambda x: '%.3f' % x)  \n",
    "\n",
    "df[[\n",
    "    'Temperature(F)',\n",
    "    'Wind_Chill(F)',\n",
    "    'Humidity(%)',\n",
    "    'Pressure(in)',\n",
    "    'Visibility(mi)',\n",
    "    'Wind_Speed(mph)',\n",
    "    'Precipitation(in)'\n",
    "]].describe()"
   ]
  },
  {
   "cell_type": "code",
   "execution_count": 8,
   "metadata": {},
   "outputs": [
    {
     "data": {
      "text/html": [
       "<div>\n",
       "<style scoped>\n",
       "    .dataframe tbody tr th:only-of-type {\n",
       "        vertical-align: middle;\n",
       "    }\n",
       "\n",
       "    .dataframe tbody tr th {\n",
       "        vertical-align: top;\n",
       "    }\n",
       "\n",
       "    .dataframe thead th {\n",
       "        text-align: right;\n",
       "    }\n",
       "</style>\n",
       "<table border=\"1\" class=\"dataframe\">\n",
       "  <thead>\n",
       "    <tr style=\"text-align: right;\">\n",
       "      <th></th>\n",
       "      <th>Sunrise_Sunset</th>\n",
       "      <th>Civil_Twilight</th>\n",
       "      <th>Nautical_Twilight</th>\n",
       "      <th>Astronomical_Twilight</th>\n",
       "    </tr>\n",
       "  </thead>\n",
       "  <tbody>\n",
       "    <tr>\n",
       "      <th>0</th>\n",
       "      <td>Night</td>\n",
       "      <td>Night</td>\n",
       "      <td>Night</td>\n",
       "      <td>Night</td>\n",
       "    </tr>\n",
       "    <tr>\n",
       "      <th>1</th>\n",
       "      <td>Night</td>\n",
       "      <td>Night</td>\n",
       "      <td>Night</td>\n",
       "      <td>Day</td>\n",
       "    </tr>\n",
       "    <tr>\n",
       "      <th>2</th>\n",
       "      <td>Night</td>\n",
       "      <td>Night</td>\n",
       "      <td>Day</td>\n",
       "      <td>Day</td>\n",
       "    </tr>\n",
       "    <tr>\n",
       "      <th>3</th>\n",
       "      <td>Night</td>\n",
       "      <td>Day</td>\n",
       "      <td>Day</td>\n",
       "      <td>Day</td>\n",
       "    </tr>\n",
       "    <tr>\n",
       "      <th>4</th>\n",
       "      <td>Day</td>\n",
       "      <td>Day</td>\n",
       "      <td>Day</td>\n",
       "      <td>Day</td>\n",
       "    </tr>\n",
       "    <tr>\n",
       "      <th>...</th>\n",
       "      <td>...</td>\n",
       "      <td>...</td>\n",
       "      <td>...</td>\n",
       "      <td>...</td>\n",
       "    </tr>\n",
       "    <tr>\n",
       "      <th>7728389</th>\n",
       "      <td>Day</td>\n",
       "      <td>Day</td>\n",
       "      <td>Day</td>\n",
       "      <td>Day</td>\n",
       "    </tr>\n",
       "    <tr>\n",
       "      <th>7728390</th>\n",
       "      <td>Day</td>\n",
       "      <td>Day</td>\n",
       "      <td>Day</td>\n",
       "      <td>Day</td>\n",
       "    </tr>\n",
       "    <tr>\n",
       "      <th>7728391</th>\n",
       "      <td>Day</td>\n",
       "      <td>Day</td>\n",
       "      <td>Day</td>\n",
       "      <td>Day</td>\n",
       "    </tr>\n",
       "    <tr>\n",
       "      <th>7728392</th>\n",
       "      <td>Day</td>\n",
       "      <td>Day</td>\n",
       "      <td>Day</td>\n",
       "      <td>Day</td>\n",
       "    </tr>\n",
       "    <tr>\n",
       "      <th>7728393</th>\n",
       "      <td>Day</td>\n",
       "      <td>Day</td>\n",
       "      <td>Day</td>\n",
       "      <td>Day</td>\n",
       "    </tr>\n",
       "  </tbody>\n",
       "</table>\n",
       "<p>7728394 rows × 4 columns</p>\n",
       "</div>"
      ],
      "text/plain": [
       "        Sunrise_Sunset Civil_Twilight Nautical_Twilight Astronomical_Twilight\n",
       "0                Night          Night             Night                 Night\n",
       "1                Night          Night             Night                   Day\n",
       "2                Night          Night               Day                   Day\n",
       "3                Night            Day               Day                   Day\n",
       "4                  Day            Day               Day                   Day\n",
       "...                ...            ...               ...                   ...\n",
       "7728389            Day            Day               Day                   Day\n",
       "7728390            Day            Day               Day                   Day\n",
       "7728391            Day            Day               Day                   Day\n",
       "7728392            Day            Day               Day                   Day\n",
       "7728393            Day            Day               Day                   Day\n",
       "\n",
       "[7728394 rows x 4 columns]"
      ]
     },
     "execution_count": 8,
     "metadata": {},
     "output_type": "execute_result"
    }
   ],
   "source": [
    "df[['Sunrise_Sunset', 'Civil_Twilight', 'Nautical_Twilight', 'Astronomical_Twilight']]"
   ]
  },
  {
   "cell_type": "markdown",
   "metadata": {},
   "source": [
    "- The four columns above determines whether the accident record is categorised as day or night accident. We will use the time of sunrise and sunset time of the local timezone to append either 'day' or 'night' to `sunrise_sunset` for our analysis and drop the other 3.\n",
    "- We will also change `sunrise_sunset` to `day_night` so it is more intuitive.\n",
    "- `Source` is the source of data, we won't use that for analysis.  \n",
    "- `Airport_Code` tells us the the closest weather station to th accident location, not particularly useful.  \n",
    "- `Weather_Timestamp` tells us the the latest datetime as to when the data was obtained, we could use that to extract the datetime information, but we already have `Start_Time` for that. So let's drop that too.\n",
    "- `End_Lat` and `End_Lng` will not be used. We will use `Start_Lat` and `Start_Lng` instead.\n",
    "- `Distance(mi)` is the length of the road affected by the accident, we won't be using that to get any insight\n",
    "- We'll use `Start_time` to determine the time of accident and drop `End_time`\n",
    "- `Zipcode` and `Street` will not be helpful, we will not be analysing at that level of granularity."
   ]
  },
  {
   "cell_type": "code",
   "execution_count": 9,
   "metadata": {},
   "outputs": [],
   "source": [
    "df = df.drop(columns=[\"Civil_Twilight\", \"Nautical_Twilight\", 'Astronomical_Twilight', 'Source', 'Airport_Code', 'Weather_Timestamp', 'End_Lat', 'End_Lng', 'Distance(mi)', 'Zipcode', 'End_Time', 'Street']) "
   ]
  },
  {
   "cell_type": "code",
   "execution_count": 10,
   "metadata": {},
   "outputs": [],
   "source": [
    "df = df.rename(columns={'Sunrise_Sunset': 'Day_Night'})"
   ]
  },
  {
   "cell_type": "markdown",
   "metadata": {},
   "source": [
    "We will also change the datetime column from string to datetime object, are some inconsistent string format so we will standardise it"
   ]
  },
  {
   "cell_type": "code",
   "execution_count": 11,
   "metadata": {},
   "outputs": [
    {
     "name": "stdout",
     "output_type": "stream",
     "text": [
      "743166\n"
     ]
    }
   ],
   "source": [
    "# Number of rows with microseconds\n",
    "\n",
    "print(df['Start_Time'].str.contains(r'\\..+', regex=True).sum())"
   ]
  },
  {
   "cell_type": "code",
   "execution_count": 12,
   "metadata": {},
   "outputs": [],
   "source": [
    "# Removing microseconds\n",
    "\n",
    "df['Start_Time'] = df['Start_Time'].replace(r'\\..+', '', regex=True)"
   ]
  },
  {
   "cell_type": "code",
   "execution_count": 13,
   "metadata": {},
   "outputs": [],
   "source": [
    "df['Start_Time'] = pd.to_datetime(df['Start_Time'])"
   ]
  },
  {
   "cell_type": "code",
   "execution_count": 14,
   "metadata": {},
   "outputs": [
    {
     "name": "stdout",
     "output_type": "stream",
     "text": [
      "23022\n",
      "224\n"
     ]
    }
   ],
   "source": [
    "print((df['Day_Night'].isna() & df['Timezone'].notna()).sum())\n",
    "print((df['Day_Night'].isna() & df['Timezone'].isna()).sum())"
   ]
  },
  {
   "cell_type": "markdown",
   "metadata": {},
   "source": [
    "23022 rows does not have day/night, let's write a function to determine the sunrise/sunset time for these data points using timezone and pytz, then populate day_night column.\n",
    "\n",
    "For the remaining 224 data points without timezone, we will use coordinates in the Start_Lat/Start_Lng column to determine the timezone, then populate day_night column."
   ]
  },
  {
   "cell_type": "code",
   "execution_count": 15,
   "metadata": {},
   "outputs": [],
   "source": [
    "# Getting timezone using coordinates\n",
    "def get_timezone(lat, long):\n",
    "    tf = TimezoneFinder()\n",
    "    local_timezone_str = tf.timezone_at(lat=float(lat), lng=float(long))\n",
    "    local_timezone = pytz.timezone(local_timezone_str)\n",
    "\n",
    "    return local_timezone\n",
    "\n",
    "\n",
    "# Get local sunrise time using timezone and date\n",
    "def get_local_sunrise(timezone, date):\n",
    "    # Convert 'date' to datetime object\n",
    "\n",
    "    # Create LocationInfo for the given timezone\n",
    "    timezone_info = LocationInfo(timezone)\n",
    "\n",
    "    # Calculate sunrise time using astral\n",
    "    s = sun(timezone_info.observer, date=date)\n",
    "    local_sunrise = s['sunrise']\n",
    "\n",
    "    return local_sunrise\n",
    "\n",
    "\n",
    "# Assigning day/night using local sunrise time\n",
    "def classify_day_night(row):\n",
    "\n",
    "    time_column = row['Start_Time']\n",
    "\n",
    "    local_sunrise_time = get_local_sunrise(row['Timezone'], row['Start_Time'])\n",
    "\n",
    "    if time_column < local_sunrise_time.time():\n",
    "        return 'Night'\n",
    "    else:\n",
    "        return 'Day'"
   ]
  },
  {
   "cell_type": "code",
   "execution_count": 16,
   "metadata": {},
   "outputs": [],
   "source": [
    "# Assigning timezone to rows where Day_Night column is empty, using coordinates.\n",
    "\n",
    "# mask = pd.isna(df['Day_Night']) & pd.isna(df['Timezone'])\n",
    "# filtered_df = df[mask].copy()\n",
    "\n",
    "# filtered_df['Timezone'] = filtered_df.apply(lambda row: get_timezone(row['Start_Lat'], row['Start_Lng']), axis=1)\n",
    "# df.loc[mask, 'Timezone'] = filtered_df['Timezone']"
   ]
  },
  {
   "cell_type": "code",
   "execution_count": 17,
   "metadata": {},
   "outputs": [
    {
     "name": "stdout",
     "output_type": "stream",
     "text": [
      "224\n"
     ]
    }
   ],
   "source": [
    "print((df['Day_Night'].isna() & df['Timezone'].isna()).sum())"
   ]
  },
  {
   "cell_type": "code",
   "execution_count": 18,
   "metadata": {},
   "outputs": [
    {
     "data": {
      "text/plain": [
       "23246"
      ]
     },
     "execution_count": 18,
     "metadata": {},
     "output_type": "execute_result"
    }
   ],
   "source": [
    "# Rows with no Day_Night values\n",
    "df['Day_Night'].isna().sum()"
   ]
  },
  {
   "cell_type": "code",
   "execution_count": 19,
   "metadata": {},
   "outputs": [],
   "source": [
    "df3 = df[df['Day_Night'].isna()]"
   ]
  },
  {
   "cell_type": "code",
   "execution_count": 20,
   "metadata": {},
   "outputs": [
    {
     "data": {
      "text/plain": [
       "85968     2016-08-02 04:26:12.038734+00:00\n",
       "111080    2016-06-01 03:48:47.377042+00:00\n",
       "119772    2016-12-23 08:04:32.406150+00:00\n",
       "122929    2017-01-17 07:57:11.153584+00:00\n",
       "123702    2017-01-24 07:49:29.302526+00:00\n",
       "                        ...               \n",
       "7619724   2017-10-09 06:14:16.756532+00:00\n",
       "7629988   2017-09-06 05:21:02.166878+00:00\n",
       "7636150   2017-09-21 05:44:55.959788+00:00\n",
       "7639338   2017-09-29 05:57:49.894653+00:00\n",
       "7664113   2019-04-23 04:48:44.517983+00:00\n",
       "Length: 23246, dtype: datetime64[ns, UTC]"
      ]
     },
     "execution_count": 20,
     "metadata": {},
     "output_type": "execute_result"
    }
   ],
   "source": [
    "# Assigning day/night using sunrise time for each timezone\n",
    "\n",
    "local_sunrise_time = df3.apply(\n",
    "    lambda row: get_local_sunrise(row['Timezone'], row['Start_Time']), axis=1\n",
    ")\n",
    "\n",
    "# df.apply(lambda row: classify_sunrise_sunset(row))\n",
    "\n",
    "local_sunrise_time"
   ]
  },
  {
   "cell_type": "code",
   "execution_count": 21,
   "metadata": {},
   "outputs": [
    {
     "name": "stderr",
     "output_type": "stream",
     "text": [
      "/var/folders/3v/nvf5sb85235fjz6fgzjnl1gr0000gn/T/ipykernel_17496/12994331.py:3: SettingWithCopyWarning: \n",
      "A value is trying to be set on a copy of a slice from a DataFrame.\n",
      "Try using .loc[row_indexer,col_indexer] = value instead\n",
      "\n",
      "See the caveats in the documentation: https://pandas.pydata.org/pandas-docs/stable/user_guide/indexing.html#returning-a-view-versus-a-copy\n",
      "  df3['Day_Night'] = np.where(df3['Start_Time'] < local_sunrise_time, 'Night', 'Day')\n"
     ]
    },
    {
     "data": {
      "text/plain": [
       "Day_Night\n",
       "Day      20190\n",
       "Night     3056\n",
       "Name: count, dtype: int64"
      ]
     },
     "execution_count": 21,
     "metadata": {},
     "output_type": "execute_result"
    }
   ],
   "source": [
    "local_sunrise_time = local_sunrise_time.dt.tz_localize(None)\n",
    "\n",
    "df3['Day_Night'] = np.where(df3['Start_Time'] < local_sunrise_time, 'Night', 'Day')\n",
    "df3['Day_Night'].value_counts()"
   ]
  },
  {
   "cell_type": "code",
   "execution_count": 22,
   "metadata": {},
   "outputs": [],
   "source": [
    "# Update df['Day_Night'] with data in df3['Day_Night']\n",
    "\n",
    "df.loc[df3.index, 'Day_Night'] = df3['Day_Night']"
   ]
  },
  {
   "cell_type": "code",
   "execution_count": 23,
   "metadata": {},
   "outputs": [
    {
     "data": {
      "text/plain": [
       "Day_Night\n",
       "Day      5354743\n",
       "Night    2373651\n",
       "Name: count, dtype: int64"
      ]
     },
     "execution_count": 23,
     "metadata": {},
     "output_type": "execute_result"
    }
   ],
   "source": [
    "df['Day_Night'].value_counts()"
   ]
  },
  {
   "cell_type": "code",
   "execution_count": 24,
   "metadata": {},
   "outputs": [
    {
     "data": {
      "text/plain": [
       "Index(['Description', 'City', 'Timezone', 'Temperature(F)', 'Wind_Chill(F)',\n",
       "       'Humidity(%)', 'Pressure(in)', 'Visibility(mi)', 'Wind_Direction',\n",
       "       'Wind_Speed(mph)', 'Precipitation(in)', 'Weather_Condition'],\n",
       "      dtype='object')"
      ]
     },
     "execution_count": 24,
     "metadata": {},
     "output_type": "execute_result"
    }
   ],
   "source": [
    "# Checking for other null values\n",
    "\n",
    "df.columns[df.isnull().any()]"
   ]
  },
  {
   "cell_type": "code",
   "execution_count": 25,
   "metadata": {},
   "outputs": [
    {
     "name": "stdout",
     "output_type": "stream",
     "text": [
      "               Column  Empty_Row_Count\n",
      "0                  ID                0\n",
      "1            Severity                0\n",
      "2          Start_Time                0\n",
      "3           Start_Lat                0\n",
      "4           Start_Lng                0\n",
      "5         Description                5\n",
      "6                City              253\n",
      "7              County                0\n",
      "8               State                0\n",
      "9             Country                0\n",
      "10           Timezone             7808\n",
      "11     Temperature(F)           163853\n",
      "12      Wind_Chill(F)          1999019\n",
      "13        Humidity(%)           174144\n",
      "14       Pressure(in)           140679\n",
      "15     Visibility(mi)           177098\n",
      "16     Wind_Direction           175206\n",
      "17    Wind_Speed(mph)           571233\n",
      "18  Precipitation(in)          2203586\n",
      "19  Weather_Condition           173459\n",
      "20            Amenity                0\n",
      "21               Bump                0\n",
      "22           Crossing                0\n",
      "23           Give_Way                0\n",
      "24           Junction                0\n",
      "25            No_Exit                0\n",
      "26            Railway                0\n",
      "27         Roundabout                0\n",
      "28            Station                0\n",
      "29               Stop                0\n",
      "30    Traffic_Calming                0\n",
      "31     Traffic_Signal                0\n",
      "32       Turning_Loop                0\n",
      "33          Day_Night                0\n"
     ]
    }
   ],
   "source": [
    "empty_row_counts = df.isnull().sum()\n",
    "\n",
    "# Create a DataFrame to display the results\n",
    "result_df = pd.DataFrame({'Column': empty_row_counts.index, 'Empty_Row_Count': empty_row_counts.values})\n",
    "\n",
    "# Print the result\n",
    "print(result_df)\n"
   ]
  },
  {
   "cell_type": "markdown",
   "metadata": {},
   "source": [
    "- City will be quite important for our analysis, let's use `geocoder` library to fill in the empty cities row.  \n",
    "- For most of our missing continuous data, we will use average method to fill them in but on a city level. Drier cities might have a significant difference in precipitation than wet ones.  \n",
    "- Average `precipitation(in)`,`wind_speed(mph)`, `visibility`, `pressure`, `humidity`, `wind_chill`, `temperature` on City level.\n",
    "- Standardise `wind direction` (Full name to short name).\n",
    "- Add a column called `month` and populate the column with the text of month from `start_date``, this will allow us to breakdown the data by month and see weather seasonality has an effect on accidents rate."
   ]
  },
  {
   "cell_type": "code",
   "execution_count": 26,
   "metadata": {},
   "outputs": [],
   "source": [
    "# Defining function to find city using coordinate\n",
    "\n",
    "def assign_city(lat, long):\n",
    "    location = geocoder.osm([lat, long], method='reverse')\n",
    "    city = location.city\n",
    "    if city == None:\n",
    "        return pd.NA\n",
    "    else:\n",
    "        return city"
   ]
  },
  {
   "cell_type": "code",
   "execution_count": 27,
   "metadata": {},
   "outputs": [],
   "source": [
    "df['City'].isna().sum()\n",
    "df_city_na = df[df['City'].isna()]"
   ]
  },
  {
   "cell_type": "code",
   "execution_count": 28,
   "metadata": {},
   "outputs": [],
   "source": [
    "# Filling in cities\n",
    "\n",
    "assigned_city = df_city_na.apply(\n",
    "    lambda row: assign_city(row['Start_Lat'], row['Start_Lng']), axis=1\n",
    ")\n",
    "\n",
    "df.loc[df_city_na.index, 'City'] = df_city_na"
   ]
  },
  {
   "cell_type": "code",
   "execution_count": 29,
   "metadata": {},
   "outputs": [],
   "source": [
    "# Filling in data for NA rows\n",
    "\n",
    "columns_to_fill = [\n",
    "    'Temperature(F)',\n",
    "    'Wind_Chill(F)',\n",
    "    'Humidity(%)',\n",
    "    'Pressure(in)',\n",
    "    'Visibility(mi)',\n",
    "    'Wind_Speed(mph)',\n",
    "    'Precipitation(in)'\n",
    "]\n",
    "\n",
    "for i in columns_to_fill:\n",
    "    df[i] = df[i].fillna(df.groupby('City')[i].transform('mean'))"
   ]
  },
  {
   "cell_type": "code",
   "execution_count": 30,
   "metadata": {},
   "outputs": [
    {
     "name": "stdout",
     "output_type": "stream",
     "text": [
      "Wind_Direction\n",
      "CALM    1330181\n",
      "S        597364\n",
      "W        548664\n",
      "N        460536\n",
      "SSW      384840\n",
      "E        382459\n",
      "WNW      378781\n",
      "NW       369352\n",
      "VAR      364562\n",
      "SW       364470\n",
      "WSW      353806\n",
      "SSE      349110\n",
      "NNW      333427\n",
      "SE       294901\n",
      "ESE      268311\n",
      "NE       258639\n",
      "ENE      258474\n",
      "NNE      255311\n",
      "Name: count, dtype: int64\n"
     ]
    }
   ],
   "source": [
    "df['Wind_Direction'].value_counts()\n",
    "\n",
    "direction_remap = {\n",
    "    'South':'S',\n",
    "    'North': 'N',\n",
    "    'East': 'E',\n",
    "    'West': 'W',\n",
    "    'Variable': 'VAR',\n",
    "    'Calm': 'CALM'\n",
    "\n",
    "}\n",
    "\n",
    "df['Wind_Direction'] = df['Wind_Direction'].replace(direction_remap)\n",
    "\n",
    "wind_dir_list = [\n",
    "    'CALM', 'S', 'W', 'N', 'SSW', 'E', 'WNW', 'NW', 'VAR', 'SW', 'WSW', 'SSE', 'NNW', 'SE', 'ESE', 'NE', 'ENE', 'NNE'\n",
    "]\n",
    "\n",
    "print(df['Wind_Direction'].value_counts())"
   ]
  },
  {
   "cell_type": "code",
   "execution_count": 31,
   "metadata": {},
   "outputs": [
    {
     "data": {
      "text/plain": [
       "ID                        0\n",
       "Severity                  0\n",
       "Start_Time                0\n",
       "Start_Lat                 0\n",
       "Start_Lng                 0\n",
       "Description               5\n",
       "City                    253\n",
       "County                    0\n",
       "State                     0\n",
       "Country                   0\n",
       "Timezone               7808\n",
       "Temperature(F)         7894\n",
       "Wind_Chill(F)         23096\n",
       "Humidity(%)            7896\n",
       "Pressure(in)           7887\n",
       "Visibility(mi)        17185\n",
       "Wind_Direction       175206\n",
       "Wind_Speed(mph)       20544\n",
       "Precipitation(in)     52526\n",
       "Weather_Condition    173459\n",
       "Amenity                   0\n",
       "Bump                      0\n",
       "Crossing                  0\n",
       "Give_Way                  0\n",
       "Junction                  0\n",
       "No_Exit                   0\n",
       "Railway                   0\n",
       "Roundabout                0\n",
       "Station                   0\n",
       "Stop                      0\n",
       "Traffic_Calming           0\n",
       "Traffic_Signal            0\n",
       "Turning_Loop              0\n",
       "Day_Night                 0\n",
       "dtype: int64"
      ]
     },
     "execution_count": 31,
     "metadata": {},
     "output_type": "execute_result"
    }
   ],
   "source": [
    "df.isnull().sum()"
   ]
  },
  {
   "cell_type": "markdown",
   "metadata": {},
   "source": [
    "There are still some rows with null data, this is because for those cities there are no values to be aggregated to begin with, we will drop these rows. We also drop rows where `City` has no data."
   ]
  },
  {
   "cell_type": "code",
   "execution_count": 32,
   "metadata": {},
   "outputs": [
    {
     "data": {
      "text/plain": [
       "ID                       0\n",
       "Severity                 0\n",
       "Start_Time               0\n",
       "Start_Lat                0\n",
       "Start_Lng                0\n",
       "Description              0\n",
       "City                     0\n",
       "County                   0\n",
       "State                    0\n",
       "Country                  0\n",
       "Timezone                 0\n",
       "Temperature(F)           0\n",
       "Wind_Chill(F)            0\n",
       "Humidity(%)              0\n",
       "Pressure(in)             0\n",
       "Visibility(mi)           0\n",
       "Wind_Direction           0\n",
       "Wind_Speed(mph)          0\n",
       "Precipitation(in)        0\n",
       "Weather_Condition    34352\n",
       "Amenity                  0\n",
       "Bump                     0\n",
       "Crossing                 0\n",
       "Give_Way                 0\n",
       "Junction                 0\n",
       "No_Exit                  0\n",
       "Railway                  0\n",
       "Roundabout               0\n",
       "Station                  0\n",
       "Stop                     0\n",
       "Traffic_Calming          0\n",
       "Traffic_Signal           0\n",
       "Turning_Loop             0\n",
       "Day_Night                0\n",
       "dtype: int64"
      ]
     },
     "execution_count": 32,
     "metadata": {},
     "output_type": "execute_result"
    }
   ],
   "source": [
    "df = df.dropna(subset=[\n",
    "    'Temperature(F)',\n",
    "    'Wind_Chill(F)',\n",
    "    'Humidity(%)',\n",
    "    'Pressure(in)',\n",
    "    'Visibility(mi)',\n",
    "    'Wind_Direction',\n",
    "    'Wind_Speed(mph)',\n",
    "    'Precipitation(in)',\n",
    "    'City',\n",
    "    'Description'\n",
    "]\n",
    ")\n",
    "\n",
    "df.isnull().sum()"
   ]
  },
  {
   "cell_type": "code",
   "execution_count": 33,
   "metadata": {},
   "outputs": [],
   "source": [
    "# Adding 'month' column next to Start_Time\n",
    "\n",
    "df.insert(df.columns.get_loc('Start_Time'), 'month', df['Start_Time'].dt.strftime('%B'))"
   ]
  },
  {
   "cell_type": "code",
   "execution_count": 34,
   "metadata": {},
   "outputs": [
    {
     "data": {
      "text/plain": [
       "month\n",
       "December     822551\n",
       "November     736053\n",
       "January      729090\n",
       "October      656989\n",
       "February     641546\n",
       "September    631506\n",
       "August       583017\n",
       "April        572862\n",
       "June         551788\n",
       "May          542992\n",
       "March        540070\n",
       "July         495408\n",
       "Name: count, dtype: int64"
      ]
     },
     "execution_count": 34,
     "metadata": {},
     "output_type": "execute_result"
    }
   ],
   "source": [
    "df['month'].value_counts()"
   ]
  },
  {
   "cell_type": "markdown",
   "metadata": {},
   "source": [
    "Finally let's find and drop duplicates"
   ]
  },
  {
   "cell_type": "code",
   "execution_count": 35,
   "metadata": {},
   "outputs": [],
   "source": [
    "df = df.drop_duplicates()"
   ]
  },
  {
   "cell_type": "code",
   "execution_count": 36,
   "metadata": {},
   "outputs": [
    {
     "data": {
      "text/plain": [
       "(7503872, 35)"
      ]
     },
     "execution_count": 36,
     "metadata": {},
     "output_type": "execute_result"
    }
   ],
   "source": [
    "df.shape"
   ]
  },
  {
   "cell_type": "code",
   "execution_count": 37,
   "metadata": {},
   "outputs": [],
   "source": [
    "df.to_csv('/Users/elliotyip/Desktop/Portfolio-project/Project-05/US-Accidents-final.csv', index=False)"
   ]
  }
 ],
 "metadata": {
  "kernelspec": {
   "display_name": "myenv",
   "language": "python",
   "name": "python3"
  },
  "language_info": {
   "codemirror_mode": {
    "name": "ipython",
    "version": 3
   },
   "file_extension": ".py",
   "mimetype": "text/x-python",
   "name": "python",
   "nbconvert_exporter": "python",
   "pygments_lexer": "ipython3",
   "version": "3.12.0"
  }
 },
 "nbformat": 4,
 "nbformat_minor": 2
}
